{
 "cells": [
  {
   "cell_type": "code",
   "execution_count": 46,
   "metadata": {},
   "outputs": [],
   "source": [
    "#take data/ratings.csv and create a pandas dataframe with the following columns: user_id, movie_id, rating, timestamp\n",
    "\n",
    "import pandas as pd\n",
    "import numpy as np"
   ]
  },
  {
   "cell_type": "markdown",
   "metadata": {},
   "source": [
    "## Preprocessing"
   ]
  },
  {
   "cell_type": "code",
   "execution_count": 47,
   "metadata": {},
   "outputs": [
    {
     "data": {
      "text/html": [
       "<div>\n",
       "<style scoped>\n",
       "    .dataframe tbody tr th:only-of-type {\n",
       "        vertical-align: middle;\n",
       "    }\n",
       "\n",
       "    .dataframe tbody tr th {\n",
       "        vertical-align: top;\n",
       "    }\n",
       "\n",
       "    .dataframe thead th {\n",
       "        text-align: right;\n",
       "    }\n",
       "</style>\n",
       "<table border=\"1\" class=\"dataframe\">\n",
       "  <thead>\n",
       "    <tr style=\"text-align: right;\">\n",
       "      <th></th>\n",
       "      <th>userId</th>\n",
       "      <th>movieId</th>\n",
       "      <th>rating</th>\n",
       "    </tr>\n",
       "  </thead>\n",
       "  <tbody>\n",
       "    <tr>\n",
       "      <th>0</th>\n",
       "      <td>1</td>\n",
       "      <td>1</td>\n",
       "      <td>4.0</td>\n",
       "    </tr>\n",
       "    <tr>\n",
       "      <th>1</th>\n",
       "      <td>1</td>\n",
       "      <td>3</td>\n",
       "      <td>4.0</td>\n",
       "    </tr>\n",
       "    <tr>\n",
       "      <th>2</th>\n",
       "      <td>1</td>\n",
       "      <td>6</td>\n",
       "      <td>4.0</td>\n",
       "    </tr>\n",
       "    <tr>\n",
       "      <th>3</th>\n",
       "      <td>1</td>\n",
       "      <td>47</td>\n",
       "      <td>5.0</td>\n",
       "    </tr>\n",
       "    <tr>\n",
       "      <th>4</th>\n",
       "      <td>1</td>\n",
       "      <td>50</td>\n",
       "      <td>5.0</td>\n",
       "    </tr>\n",
       "  </tbody>\n",
       "</table>\n",
       "</div>"
      ],
      "text/plain": [
       "   userId  movieId  rating\n",
       "0       1        1     4.0\n",
       "1       1        3     4.0\n",
       "2       1        6     4.0\n",
       "3       1       47     5.0\n",
       "4       1       50     5.0"
      ]
     },
     "execution_count": 47,
     "metadata": {},
     "output_type": "execute_result"
    }
   ],
   "source": [
    "# read the ratings.csv file\n",
    "df = pd.read_csv('./data/ratings.csv')\n",
    "#drop the timestamp column\n",
    "df = df.drop('timestamp', axis=1)\n",
    "df.head()"
   ]
  },
  {
   "cell_type": "code",
   "execution_count": 51,
   "metadata": {},
   "outputs": [
    {
     "name": "stdout",
     "output_type": "stream",
     "text": [
      "Number of rows in dataframe before taking lower ratings:  81763\n",
      "Number of rows in dataframe after taking lower ratings:  81763\n",
      "Lowest rating is: 3\n",
      "Highest rating is: 5\n",
      "Minimum number of movies rated by a user:  4\n",
      "Maximum number of movies rated by a user:  2117\n"
     ]
    }
   ],
   "source": [
    "#print the number of rows in dataframe\n",
    "print('Number of rows in dataframe before taking lower ratings: ', len(df))\n",
    "\n",
    "# remove the rows having rating less than 2.0\n",
    "df = df[df['rating'] >= 3.0]\n",
    "\n",
    "print('Number of rows in dataframe after taking lower ratings: ', len(df))\n",
    "#find the lowest and highest ratings\n",
    "print('Lowest rating is: %d' %(df.rating.min()))\n",
    "print('Highest rating is: %d' %(df.rating.max()))\n",
    "# get the counts of total movies rated by each user\n",
    "movie_count = df.groupby('userId')['movieId'].count()\n",
    "movie_count\n",
    "#find the minimum and maximum number of movies rated by a user\n",
    "print('Minimum number of movies rated by a user: ', movie_count.min())\n",
    "print('Maximum number of movies rated by a user: ', movie_count.max())\n",
    "\n",
    "\n"
   ]
  },
  {
   "cell_type": "code",
   "execution_count": 52,
   "metadata": {},
   "outputs": [
    {
     "data": {
      "text/plain": [
       "userId\n",
       "1      {1024, 1, 1025, 3, 2048, 1029, 6, 1030, 1031, ...\n",
       "2      {115713, 122882, 48516, 91529, 80906, 131724, ...\n",
       "3      {70946, 2851, 5764, 4518, 26409, 7991, 1275, 2...\n",
       "4      {1025, 3079, 3083, 21, 1046, 2583, 4121, 538, ...\n",
       "5      {1, 515, 261, 265, 527, 531, 21, 150, 534, 153...\n",
       "                             ...                        \n",
       "606    {8195, 6148, 69644, 4109, 15, 17, 18, 2065, 20...\n",
       "607    {1, 517, 2053, 2054, 1544, 3081, 11, 1036, 257...\n",
       "608    {4105, 10, 6157, 16, 21, 31, 32, 2080, 34, 208...\n",
       "609    {1, 137, 10, 650, 1161, 786, 150, 288, 161, 10...\n",
       "610    {1, 122882, 122884, 6, 79879, 122886, 4105, 10...\n",
       "Name: movieId, Length: 609, dtype: object"
      ]
     },
     "execution_count": 52,
     "metadata": {},
     "output_type": "execute_result"
    }
   ],
   "source": [
    "# for each user find the set of movies they rated and having a rating greater than 2\n",
    "df = df.groupby('userId')['movieId'].apply(set)\n",
    "df\n"
   ]
  },
  {
   "cell_type": "code",
   "execution_count": 53,
   "metadata": {},
   "outputs": [
    {
     "data": {
      "text/plain": [
       "userId\n",
       "1      [1, 3, 6, 47, 50, 70, 101, 110, 151, 157, 163,...\n",
       "2      [318, 333, 1704, 3578, 6874, 8798, 46970, 4851...\n",
       "3      [849, 1275, 1371, 1587, 2288, 2851, 3024, 3703...\n",
       "4      [21, 45, 52, 58, 106, 125, 162, 171, 176, 215,...\n",
       "5      [1, 21, 34, 36, 39, 50, 58, 110, 150, 153, 232...\n",
       "                             ...                        \n",
       "606    [15, 17, 18, 28, 29, 32, 36, 46, 47, 50, 58, 6...\n",
       "607    [1, 11, 25, 34, 36, 86, 110, 150, 153, 165, 18...\n",
       "608    [10, 16, 21, 31, 32, 34, 39, 47, 50, 70, 104, ...\n",
       "609    [1, 10, 110, 116, 137, 150, 161, 185, 208, 231...\n",
       "610    [1, 6, 16, 32, 47, 50, 70, 95, 110, 111, 112, ...\n",
       "Name: movieId, Length: 609, dtype: object"
      ]
     },
     "execution_count": 53,
     "metadata": {},
     "output_type": "execute_result"
    }
   ],
   "source": [
    "# sort the set based on the movide id\n",
    "df = df.apply(sorted)\n"
   ]
  },
  {
   "cell_type": "code",
   "execution_count": 57,
   "metadata": {},
   "outputs": [
    {
     "name": "stdout",
     "output_type": "stream",
     "text": [
      "Minimum number of movies rated by a user:  11\n",
      "Maximum number of movies rated by a user:  2117\n"
     ]
    }
   ],
   "source": [
    "# consider only the users who have rated more than 10 movies\n",
    "df = df[df.apply(lambda x: len(x)) > 10]\n",
    "# print the minimum and maximum number of movies rated by a user\n",
    "print('Minimum number of movies rated by a user: ', df.apply(lambda x: len(x)).min())\n",
    "print('Maximum number of movies rated by a user: ', df.apply(lambda x: len(x)).max())\n"
   ]
  },
  {
   "cell_type": "code",
   "execution_count": 58,
   "metadata": {},
   "outputs": [],
   "source": [
    "# divide the data into training and test sets\n",
    "# remove 20% of the data from each user and add it to the test set\n",
    "# the remaining 80% of the data will be used for training\n",
    "train = df.apply(lambda x: x[:int(len(x)*0.8)])\n",
    "test = df.apply(lambda x: x[int(len(x)*0.8):])"
   ]
  },
  {
   "cell_type": "markdown",
   "metadata": {},
   "source": [
    "## Q1"
   ]
  },
  {
   "cell_type": "code",
   "execution_count": 195,
   "metadata": {},
   "outputs": [
    {
     "name": "stdout",
     "output_type": "stream",
     "text": [
      "Len of c1 6532\n",
      "Len of l1 208\n"
     ]
    }
   ],
   "source": [
    "minsup = 0.1\n",
    "minconf = 0.1\n",
    "support_count = int(minsup * len(train))\n",
    "l=[{}]\n",
    "c1={}\n",
    "for user in train:\n",
    "    for movie in user:\n",
    "        if (movie,) in c1:\n",
    "            c1[(movie,)] += 1\n",
    "        else:\n",
    "            c1[(movie,)] = 1\n",
    "\n",
    "print(\"Len of c1\" , len(c1))\n",
    "\n",
    "\n",
    "\n",
    "# remove the infrequent items from the candidate set\n",
    "l1 = {k:v for k,v in c1.items() if v > support_count}\n",
    "print(\"Len of l1\" , len(l1))\n",
    "l.append(l1)"
   ]
  },
  {
   "cell_type": "code",
   "execution_count": 196,
   "metadata": {},
   "outputs": [],
   "source": [
    "def check_subsets(cur, prev_size):\n",
    "    for i in range(len(cur)):\n",
    "        s = cur[:i] + cur[i+1:]\n",
    "        #print(s)\n",
    "        s= tuple(s)\n",
    "        if s not in l[prev_size]:\n",
    "            return False\n",
    "    return True\n",
    "\n",
    "def apriori_gen(l):\n",
    "    c = []\n",
    "    L = list(l.keys())\n",
    "    \n",
    "    try:\n",
    "        L = [[i for i in l] for l in L]\n",
    "        prev_size = len(list(l.keys())[0])\n",
    "    except:\n",
    "        L = [[l] for l in L]\n",
    "        prev_size = 1\n",
    "    \n",
    "    \n",
    "    \n",
    "    for i in range(len(L)):\n",
    "        for j in range(i+1, len(L)):\n",
    "            if L[i][:-1] == L[j][:-1]:\n",
    "                if(check_subsets(L[i] + [L[j][-1]], prev_size)):\n",
    "                    c.append(sorted(L[i] + [L[j][-1]]))\n",
    "    return c"
   ]
  },
  {
   "cell_type": "code",
   "execution_count": 197,
   "metadata": {},
   "outputs": [
    {
     "name": "stdout",
     "output_type": "stream",
     "text": [
      "Len of l2 1760\n",
      "Len of l3 3171\n",
      "Len of l4 2321\n",
      "Len of l5 730\n",
      "Len of l6 86\n",
      "Len of l7 2\n",
      "Len of l8 0\n",
      "Len of l9 0\n"
     ]
    }
   ],
   "source": [
    "# generate the candidate sets and frequent itemsets for k = 3,4,5\n",
    "for i in range(2,10):\n",
    "    c = apriori_gen(l[i-1])\n",
    "    l.append({})\n",
    "    for item in c:\n",
    "        for user in train:\n",
    "            if set(item).issubset(user):\n",
    "                if tuple(item) in l[i]:\n",
    "                    l[i][tuple(item)] += 1\n",
    "                else:\n",
    "                    l[i][tuple(item)] = 1\n",
    "    l[i] = {k:v for k,v in l[i].items() if v > support_count}\n",
    "    print(\"Len of l\" + str(i) , len(l[i]))"
   ]
  },
  {
   "cell_type": "code",
   "execution_count": 200,
   "metadata": {},
   "outputs": [
    {
     "name": "stdout",
     "output_type": "stream",
     "text": [
      "{(260, 296, 356, 1196, 1210, 2028, 2571): 61, (260, 296, 356, 1196, 1210, 2571, 2959): 63}\n"
     ]
    }
   ],
   "source": [
    "print(l[7])"
   ]
  },
  {
   "cell_type": "code",
   "execution_count": 232,
   "metadata": {},
   "outputs": [],
   "source": [
    "# for each frequent itemset find the confidence\n",
    "# if the confidence is greater than the minimum confidence then print the rule\n",
    "# consider X->Y where X is of length one \n",
    "\n",
    "def insert_dic(movie, rightset):\n",
    "    \n",
    "    if movie in rules_dic:\n",
    "        rules_dic[movie].append(rightset)\n",
    "    \n",
    "    else:\n",
    "        rules_dic[movie] = [rightset]\n",
    "\n",
    "RULES = []\n",
    "rules_dic={}\n",
    "temp = \"\"\n",
    "for i in range(2,8):\n",
    "    for k,v in l[i].items():\n",
    "        for j in range(0, len(k)):\n",
    "            x = k[j]\n",
    "            y = [movies for movies in k if movies != x]\n",
    "            confidence = v/l1[(x,)]\n",
    "\n",
    "            if confidence > minconf:\n",
    "                temp +=str(str(x) + '==>' + str(y) + ' confidence: ' + str(confidence) + ' support: ' + str(v/len(train)) + '\\n')\n",
    "                RULES.append((x,y,confidence, v/len(train)))\n",
    "                insert_dic(x,y)\n",
    "                \n",
    "\n"
   ]
  },
  {
   "cell_type": "code",
   "execution_count": 228,
   "metadata": {},
   "outputs": [],
   "source": [
    "#write the rules to a file\n",
    "with open('zoro_AssocRules.txt', 'w') as f:\n",
    "    f.write(temp)\n"
   ]
  },
  {
   "cell_type": "markdown",
   "metadata": {},
   "source": [
    "## Q2"
   ]
  },
  {
   "cell_type": "code",
   "execution_count": 229,
   "metadata": {},
   "outputs": [],
   "source": [
    "# create 2 lists one sorted by confidence and the other sorted by support\n",
    "\n",
    "rules_confidence = sorted(RULES, key=lambda x: x[2], reverse=True)\n",
    "rules_support = sorted(RULES, key=lambda x: x[3], reverse=True)\n",
    "\n",
    "# consider top 100 rules from each list\n",
    "rules_confidence = rules_confidence[:100]\n",
    "rules_support = rules_support[:100]\n",
    "\n",
    "# print the rules and write them to a file\n",
    "temp = \"\"\n",
    "for rule in rules_confidence:\n",
    "    temp += str(rule[0]) + '==>' + str(rule[1]) + ' confidence: ' + str(rule[2]) + ' support: ' + str(rule[3]) + '\\n'\n",
    "with open('zoro_top100RulesByConf.txt', 'w') as f:\n",
    "    f.write(temp)\n",
    "\n",
    "temp = \"\"\n",
    "for rule in rules_support:\n",
    "    temp += str(rule[0]) + '==>' + str(rule[1]) + ' confidence: ' + str(rule[2]) + ' support: ' + str(rule[3]) + '\\n'\n",
    "\n",
    "with open('zoro_top100RulesBySupport.txt', 'w') as f:\n",
    "    f.write(temp)\n",
    "\n",
    "\n",
    "\n",
    "# extract the rules common to both the lists\n",
    "common_rules = []\n",
    "for rule in rules_confidence:\n",
    "    if rule in rules_support:\n",
    "        common_rules.append(rule)\n",
    "\n",
    "# sort the common rules based on the confidence\n",
    "common_rules = sorted(common_rules, key=lambda x: x[2], reverse=True)\n",
    "\n",
    "\n",
    "    "
   ]
  },
  {
   "cell_type": "markdown",
   "metadata": {},
   "source": [
    "## Q3"
   ]
  },
  {
   "cell_type": "code",
   "execution_count": null,
   "metadata": {},
   "outputs": [],
   "source": [
    "for user_movies in test:\n",
    "    for movie in user_movies:\n",
    "        if movie in rules_dic:\n",
    "            for rule in rules_dic[movie]:\n",
    "                if rule in user_movies:\n",
    "                    hit += 1\n",
    "                    break\n",
    "                else:\n",
    "                    miss += 1\n",
    "                    break\n",
    "        else:\n",
    "            miss += 1\n",
    "            break\n",
    "\n",
    "\n",
    "    \n"
   ]
  }
 ],
 "metadata": {
  "kernelspec": {
   "display_name": "Python 3.10.6 ('venv': venv)",
   "language": "python",
   "name": "python3"
  },
  "language_info": {
   "codemirror_mode": {
    "name": "ipython",
    "version": 3
   },
   "file_extension": ".py",
   "mimetype": "text/x-python",
   "name": "python",
   "nbconvert_exporter": "python",
   "pygments_lexer": "ipython3",
   "version": "3.10.6"
  },
  "orig_nbformat": 4,
  "vscode": {
   "interpreter": {
    "hash": "0bff89dc48d11e5302f74bd16d351a74dc2f8e68a49ae1cc94734747f6c652ad"
   }
  }
 },
 "nbformat": 4,
 "nbformat_minor": 2
}
